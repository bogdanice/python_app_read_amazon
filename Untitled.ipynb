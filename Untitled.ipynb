{
 "cells": [
  {
   "cell_type": "code",
   "execution_count": 2,
   "metadata": {},
   "outputs": [
    {
     "name": "stdout",
     "output_type": "stream",
     "text": [
      "total 32\r\n",
      "drwxr-sr-x 4 jovyan users 4096 May 30 13:31 .\r\n",
      "drwsrwsr-x 1 jovyan users 4096 May 30 13:31 ..\r\n",
      "drwxr-sr-x 8 jovyan users 4096 May 30 13:31 .git\r\n",
      "-rw-r--r-- 1 jovyan users   19 May 30 13:31 .gitignore\r\n",
      "drwxr-sr-x 2 jovyan users 4096 May 30 13:31 .ipynb_checkpoints\r\n",
      "-rw-r--r-- 1 jovyan users  128 May 30 13:31 README.md\r\n",
      "-rw-r--r-- 1 jovyan users 6528 May 30 13:31 Untitled.ipynb\r\n"
     ]
    }
   ],
   "source": [
    "!ls -la"
   ]
  },
  {
   "cell_type": "code",
   "execution_count": 3,
   "metadata": {},
   "outputs": [],
   "source": [
    "import requests"
   ]
  },
  {
   "cell_type": "code",
   "execution_count": 4,
   "metadata": {},
   "outputs": [],
   "source": [
    "URL = \"https://www.emag.ro/set-2-manere-pentru-flotari-liveup-18x11x9-cm-e-store118979841/pd/D85QJMMBM/?X-Search-Id=adc1a9264b8cc05b0c5d&X-Product-Id=57698596&X-Search-Page=1&X-Search-Position=1&X-Section=search&X-MB=0&X-Search-Action=view\"\n",
    "headers = {\"User-Agent\": 'Mozilla/5.0 (Windows NT 10.0; Win64; x64) AppleWebKit/537.36 (KHTML, like Gecko) Chrome/81.0.4044.138 Safari/537.36'}\n",
    "\n",
    "page = requests.get(URL, headers=headers)\n"
   ]
  },
  {
   "cell_type": "code",
   "execution_count": 5,
   "metadata": {},
   "outputs": [],
   "source": [
    "from bs4 import BeautifulSoup"
   ]
  },
  {
   "cell_type": "code",
   "execution_count": 6,
   "metadata": {},
   "outputs": [],
   "source": [
    "soup = BeautifulSoup(page.content, 'html.parser')"
   ]
  },
  {
   "cell_type": "markdown",
   "metadata": {},
   "source": [
    "## First.. get the product name"
   ]
  },
  {
   "cell_type": "code",
   "execution_count": 7,
   "metadata": {},
   "outputs": [],
   "source": [
    "title = soup.find(id='page-title')"
   ]
  },
  {
   "cell_type": "markdown",
   "metadata": {},
   "source": [
    "In order to get help on a function use this syntax:\n",
    "```\n",
    "help(<object>.<function>)\n",
    "```"
   ]
  },
  {
   "cell_type": "code",
   "execution_count": 8,
   "metadata": {},
   "outputs": [
    {
     "name": "stdout",
     "output_type": "stream",
     "text": [
      "Help on method find in module bs4.element:\n",
      "\n",
      "find(name=None, attrs={}, recursive=True, text=None, **kwargs) method of bs4.BeautifulSoup instance\n",
      "    Look in the children of this PageElement and find the first\n",
      "    PageElement that matches the given criteria.\n",
      "    \n",
      "    All find_* methods take a common set of arguments. See the online\n",
      "    documentation for detailed explanations.\n",
      "    \n",
      "    :param name: A filter on tag name.\n",
      "    :param attrs: A dictionary of filters on attribute values.\n",
      "    :param recursive: If this is True, find() will perform a\n",
      "        recursive search of this PageElement's children. Otherwise,\n",
      "        only the direct children will be considered.\n",
      "    :param limit: Stop looking after finding this many results.\n",
      "    :kwargs: A dictionary of filters on attribute values.\n",
      "    :return: A PageElement.\n",
      "    :rtype: bs4.element.Tag | bs4.element.NavigableString\n",
      "\n"
     ]
    }
   ],
   "source": [
    "help(soup.find)"
   ]
  },
  {
   "cell_type": "code",
   "execution_count": 9,
   "metadata": {},
   "outputs": [],
   "source": [
    "title = soup.find(attrs={'class':'page-title'})"
   ]
  },
  {
   "cell_type": "markdown",
   "metadata": {},
   "source": [
    "title is a bs4.element.Tag object. Method .get_text() returns the inner text. To strip extra spaces added in front-end we need to use strip() function on the returned String"
   ]
  },
  {
   "cell_type": "code",
   "execution_count": 10,
   "metadata": {},
   "outputs": [
    {
     "name": "stdout",
     "output_type": "stream",
     "text": [
      "Set 2 manere pentru flotari, LiveUp, 18x11x9 cm\n"
     ]
    }
   ],
   "source": [
    "print(title.get_text().strip())"
   ]
  },
  {
   "cell_type": "markdown",
   "metadata": {},
   "source": [
    "## Next.. we want to get the price"
   ]
  },
  {
   "cell_type": "code",
   "execution_count": 11,
   "metadata": {},
   "outputs": [],
   "source": [
    "priceElem = soup.find(attrs={'class':'product-new-price'})"
   ]
  },
  {
   "cell_type": "code",
   "execution_count": 12,
   "metadata": {},
   "outputs": [],
   "source": [
    "priceString = priceElem.get_text().strip().split(\" \")"
   ]
  },
  {
   "cell_type": "code",
   "execution_count": 13,
   "metadata": {},
   "outputs": [
    {
     "name": "stdout",
     "output_type": "stream",
     "text": [
      "['4999', 'Lei']\n"
     ]
    }
   ],
   "source": [
    "print(priceString)"
   ]
  },
  {
   "cell_type": "markdown",
   "metadata": {},
   "source": [
    "Because of how front-end displays the value the price is incorrect, we need to divide by 100.\n",
    "price is the first element in the list (element with index 0)"
   ]
  },
  {
   "cell_type": "code",
   "execution_count": 14,
   "metadata": {},
   "outputs": [],
   "source": [
    "price = int(priceString[0])/100\n",
    "currency = priceString[1]"
   ]
  },
  {
   "cell_type": "code",
   "execution_count": 15,
   "metadata": {},
   "outputs": [
    {
     "name": "stdout",
     "output_type": "stream",
     "text": [
      "49.99\n"
     ]
    }
   ],
   "source": [
    "print(price)"
   ]
  },
  {
   "cell_type": "markdown",
   "metadata": {},
   "source": [
    "## Finally.. we display the price and currency"
   ]
  },
  {
   "cell_type": "code",
   "execution_count": 18,
   "metadata": {},
   "outputs": [
    {
     "name": "stdout",
     "output_type": "stream",
     "text": [
      "Price is 49.99 Lei\n"
     ]
    }
   ],
   "source": [
    "print('Price is {} {}'.format(price, currency))"
   ]
  },
  {
   "cell_type": "markdown",
   "metadata": {},
   "source": [
    "# Refactoring. Pack all as function"
   ]
  },
  {
   "cell_type": "code",
   "execution_count": 63,
   "metadata": {},
   "outputs": [],
   "source": [
    "def checkPrice(url, priceToCompareWith):\n",
    "    '''\n",
    "    Check price for item available under url.\n",
    "    If price is lower then 'priceToCompareWith' it will send an email with a price alert\n",
    "    '''\n",
    "    headers = {\"User-Agent\": 'Mozilla/5.0 (Windows NT 10.0; Win64; x64) AppleWebKit/537.36 (KHTML, like Gecko) Chrome/81.0.4044.138 Safari/537.36'}\n",
    "    # retrieve page\n",
    "    page = requests.get(URL, headers=headers)\n",
    "    soup = BeautifulSoup(page.content, 'html.parser')\n",
    "    \n",
    "    # get the product name from page-title class\n",
    "    title = soup.find(attrs={'class':'page-title'}).get_text().strip()\n",
    "    \n",
    "    # get the price\n",
    "    priceElem = soup.find(attrs={'class':'product-new-price'})\n",
    "    priceElemText = priceElem.get_text().strip() # this returns something like 4999 lei\n",
    "    # we need to get the price and currency\n",
    "    price, currency = tuple(priceElemText.split(\" \"))\n",
    "    # because the price is not retrieved with decimals (eg. 49.99 is being retrieved as 4999)\n",
    "    # we need first to convert to integer the string and then to divide by 100 to get to price\n",
    "    price = int(price)/100\n",
    "    # write the output\n",
    "    msgToSend=f'Price for \"{title}\" is {price} {currency}. \\nCheck link: {url}'\n",
    "    print(msgToSend)\n",
    "    print(\"-\" * 80)\n",
    "    if (price < priceToCompareWith):\n",
    "        sendEmail(msgToSend)\n",
    "    else:\n",
    "        print(f\"Price is not lower then {priceToCompareWith}, no email notification sent!\")\n"
   ]
  },
  {
   "cell_type": "code",
   "execution_count": 47,
   "metadata": {},
   "outputs": [],
   "source": [
    "import smtplib"
   ]
  },
  {
   "cell_type": "code",
   "execution_count": 50,
   "metadata": {},
   "outputs": [],
   "source": [
    "def sendEmail(msgToSend):\n",
    "    '''Send an email to known address with the message 'msg' '''\n",
    "    # initiate a server and establish a connection\n",
    "    server = smtplib.SMTP(\"smtp.gmail.com\", 587)\n",
    "    server.ehlo()\n",
    "    server.starttls()\n",
    "    server.ehlo()\n",
    "    # login to server\n",
    "    server.login(FROM_EMAIL, FROM_EMAIL_PASSWORD)\n",
    "    # prepare message\n",
    "    subject = \"Price fell down!\"\n",
    "    body = msgToSend\n",
    "    msg = f\"Subject: {subject}\\n\\n{body}\"\n",
    "    server.sendmail(FROM_EMAIL, TO_EMAIL, msg)\n",
    "    print(\"e-mail has been sent!\")"
   ]
  },
  {
   "cell_type": "code",
   "execution_count": 55,
   "metadata": {},
   "outputs": [],
   "source": [
    "FROM_EMAIL=\"xxx\"\n",
    "TO_EMAIL=\"xxx\"\n",
    "FROM_EMAIL_PASSWORD=\"xxx\""
   ]
  },
  {
   "cell_type": "code",
   "execution_count": 54,
   "metadata": {},
   "outputs": [
    {
     "name": "stdout",
     "output_type": "stream",
     "text": [
      "e-mail has been sent!\n"
     ]
    }
   ],
   "source": [
    "sendEmail(\"It works!\")"
   ]
  },
  {
   "cell_type": "markdown",
   "metadata": {},
   "source": [
    "# Full run"
   ]
  },
  {
   "cell_type": "markdown",
   "metadata": {},
   "source": [
    "## Test case: compare with lower price, email should not be sent"
   ]
  },
  {
   "cell_type": "code",
   "execution_count": 64,
   "metadata": {},
   "outputs": [
    {
     "name": "stdout",
     "output_type": "stream",
     "text": [
      "Price for \"Set 2 manere pentru flotari, LiveUp, 18x11x9 cm\" is 49.99 Lei. \n",
      "Check link: https://www.emag.ro/set-2-manere-pentru-flotari-liveup-18x11x9-cm-e-store118979841/pd/D85QJMMBM/?X-Search-Id=adc1a9264b8cc05b0c5d&X-Product-Id=57698596&X-Search-Page=1&X-Search-Position=1&X-Section=search&X-MB=0&X-Search-Action=view\n",
      "--------------------------------------------------------------------------------\n",
      "Price is not lower then 40, no email notification sent!\n"
     ]
    }
   ],
   "source": [
    "checkPrice(URL, 40)"
   ]
  },
  {
   "cell_type": "markdown",
   "metadata": {},
   "source": [
    "## Test case: compare with bigger price, email should be sent"
   ]
  },
  {
   "cell_type": "code",
   "execution_count": 65,
   "metadata": {},
   "outputs": [
    {
     "name": "stdout",
     "output_type": "stream",
     "text": [
      "Price for \"Set 2 manere pentru flotari, LiveUp, 18x11x9 cm\" is 49.99 Lei. \n",
      "Check link: https://www.emag.ro/set-2-manere-pentru-flotari-liveup-18x11x9-cm-e-store118979841/pd/D85QJMMBM/?X-Search-Id=adc1a9264b8cc05b0c5d&X-Product-Id=57698596&X-Search-Page=1&X-Search-Position=1&X-Section=search&X-MB=0&X-Search-Action=view\n",
      "--------------------------------------------------------------------------------\n",
      "e-mail has been sent!\n"
     ]
    }
   ],
   "source": [
    "checkPrice(URL, 100)"
   ]
  },
  {
   "cell_type": "markdown",
   "metadata": {},
   "source": [
    "# Full app"
   ]
  },
  {
   "cell_type": "code",
   "execution_count": 68,
   "metadata": {},
   "outputs": [
    {
     "name": "stdout",
     "output_type": "stream",
     "text": [
      "Price for \"Set 2 manere pentru flotari, LiveUp, 18x11x9 cm\" is 49.99 Lei. \n",
      "Check link: https://www.emag.ro/set-2-manere-pentru-flotari-liveup-18x11x9-cm-e-store118979841/pd/D85QJMMBM/?X-Search-Id=adc1a9264b8cc05b0c5d&X-Product-Id=57698596&X-Search-Page=1&X-Search-Position=1&X-Section=search&X-MB=0&X-Search-Action=view\n",
      "--------------------------------------------------------------------------------\n",
      "Price is not lower then 40, no email notification sent!\n",
      "\n",
      "\n",
      "\n",
      "Price for \"Set 2 manere pentru flotari, LiveUp, 18x11x9 cm\" is 49.99 Lei. \n",
      "Check link: https://www.emag.ro/set-2-manere-pentru-flotari-liveup-18x11x9-cm-e-store118979841/pd/D85QJMMBM/?X-Search-Id=adc1a9264b8cc05b0c5d&X-Product-Id=57698596&X-Search-Page=1&X-Search-Position=1&X-Section=search&X-MB=0&X-Search-Action=view\n",
      "--------------------------------------------------------------------------------\n",
      "e-mail has been sent!\n"
     ]
    }
   ],
   "source": [
    "import requests\n",
    "from bs4 import BeautifulSoup\n",
    "import smtplib\n",
    "\n",
    "URL = \"https://www.emag.ro/set-2-manere-pentru-flotari-liveup-18x11x9-cm-e-store118979841/pd/D85QJMMBM/?X-Search-Id=adc1a9264b8cc05b0c5d&X-Product-Id=57698596&X-Search-Page=1&X-Search-Position=1&X-Section=search&X-MB=0&X-Search-Action=view\"\n",
    "FROM_EMAIL=\"xxx\" # TODO: replace real email\n",
    "TO_EMAIL=\"xxx\" # TODO: replace real email\n",
    "FROM_EMAIL_PASSWORD=\"xxx\" # TODO: replace real password\n",
    "\n",
    "# check if current listed price is lower than 40\n",
    "checkPrice(URL, 40)\n",
    "\n",
    "print('\\n\\n')\n",
    "\n",
    "# check if current listed price is lower than 100\n",
    "checkPrice(URL, 100)\n",
    "\n",
    "def checkPrice(url, priceToCompareWith):\n",
    "    '''\n",
    "    Check price for item available under url.\n",
    "    If price is lower then 'priceToCompareWith' it will send an email with a price alert\n",
    "    '''\n",
    "    headers = {\"User-Agent\": 'Mozilla/5.0 (Windows NT 10.0; Win64; x64) AppleWebKit/537.36 (KHTML, like Gecko) Chrome/81.0.4044.138 Safari/537.36'}\n",
    "    # retrieve page\n",
    "    page = requests.get(URL, headers=headers)\n",
    "    soup = BeautifulSoup(page.content, 'html.parser')\n",
    "    \n",
    "    # get the product name from page-title class\n",
    "    title = soup.find(attrs={'class':'page-title'}).get_text().strip()\n",
    "    \n",
    "    # get the price\n",
    "    priceElem = soup.find(attrs={'class':'product-new-price'})\n",
    "    priceElemText = priceElem.get_text().strip() # this returns something like 4999 lei\n",
    "    # we need to get the price and currency\n",
    "    price, currency = tuple(priceElemText.split(\" \"))\n",
    "    # because the price is not retrieved with decimals (eg. 49.99 is being retrieved as 4999)\n",
    "    # we need first to convert to integer the string and then to divide by 100 to get to price\n",
    "    price = int(price)/100\n",
    "    # write the output\n",
    "    msgToSend=f'Price for \"{title}\" is {price} {currency}. \\nCheck link: {url}'\n",
    "    print(msgToSend)\n",
    "    print(\"-\" * 80)\n",
    "    if (price < priceToCompareWith):\n",
    "        sendEmail(msgToSend)\n",
    "    else:\n",
    "        print(f\"Price is not lower then {priceToCompareWith}, no email notification sent!\")\n",
    "\n",
    "def sendEmail(msgToSend):\n",
    "    '''Send an email to known address with the message 'msg' '''\n",
    "    # initiate a server and establish a connection\n",
    "    server = smtplib.SMTP(\"smtp.gmail.com\", 587)\n",
    "    server.ehlo()\n",
    "    server.starttls()\n",
    "    server.ehlo()\n",
    "    # login to server\n",
    "    server.login(FROM_EMAIL, FROM_EMAIL_PASSWORD)\n",
    "    # prepare message\n",
    "    subject = \"Price fell down!\"\n",
    "    body = msgToSend\n",
    "    msg = f\"Subject: {subject}\\n\\n{body}\"\n",
    "    server.sendmail(FROM_EMAIL, TO_EMAIL, msg)\n",
    "    print(\"e-mail has been sent!\")\n",
    "    \n"
   ]
  }
 ],
 "metadata": {
  "kernelspec": {
   "display_name": "Python 3",
   "language": "python",
   "name": "python3"
  },
  "language_info": {
   "codemirror_mode": {
    "name": "ipython",
    "version": 3
   },
   "file_extension": ".py",
   "mimetype": "text/x-python",
   "name": "python",
   "nbconvert_exporter": "python",
   "pygments_lexer": "ipython3",
   "version": "3.7.6"
  }
 },
 "nbformat": 4,
 "nbformat_minor": 4
}
