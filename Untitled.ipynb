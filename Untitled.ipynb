{
 "cells": [
  {
   "cell_type": "code",
   "execution_count": 2,
   "metadata": {},
   "outputs": [
    {
     "name": "stdout",
     "output_type": "stream",
     "text": [
      "total 28\r\n",
      "drwxr-sr-x 4 jovyan users 4096 May 27 20:38 .\r\n",
      "drwsrwsr-x 1 jovyan users 4096 May 27 20:35 ..\r\n",
      "drwxr-sr-x 8 jovyan users 4096 May 27 20:38 .git\r\n",
      "-rw-r--r-- 1 jovyan users   19 May 27 20:38 .gitignore\r\n",
      "drwxr-sr-x 2 jovyan users 4096 May 27 20:36 .ipynb_checkpoints\r\n",
      "-rw-r--r-- 1 jovyan users  128 May 27 20:35 README.md\r\n",
      "-rw-r--r-- 1 jovyan users  555 May 27 20:38 Untitled.ipynb\r\n"
     ]
    }
   ],
   "source": [
    "!ls -la"
   ]
  },
  {
   "cell_type": "code",
   "execution_count": 3,
   "metadata": {},
   "outputs": [],
   "source": [
    "import requests"
   ]
  },
  {
   "cell_type": "code",
   "execution_count": 28,
   "metadata": {},
   "outputs": [],
   "source": [
    "URL = \"https://www.emag.ro/set-2-manere-pentru-flotari-liveup-18x11x9-cm-e-store118979841/pd/D85QJMMBM/?X-Search-Id=adc1a9264b8cc05b0c5d&X-Product-Id=57698596&X-Search-Page=1&X-Search-Position=1&X-Section=search&X-MB=0&X-Search-Action=view\"\n",
    "headers = {\"User-Agent\": 'Mozilla/5.0 (Windows NT 10.0; Win64; x64) AppleWebKit/537.36 (KHTML, like Gecko) Chrome/81.0.4044.138 Safari/537.36'}\n",
    "\n",
    "page = requests.get(URL, headers=headers)\n"
   ]
  },
  {
   "cell_type": "code",
   "execution_count": 29,
   "metadata": {},
   "outputs": [],
   "source": [
    "from bs4 import BeautifulSoup"
   ]
  },
  {
   "cell_type": "code",
   "execution_count": 30,
   "metadata": {},
   "outputs": [],
   "source": [
    "soup = BeautifulSoup(page.content, 'html.parser')"
   ]
  },
  {
   "cell_type": "code",
   "execution_count": 38,
   "metadata": {},
   "outputs": [],
   "source": [
    "title = soup.find(id='page-title')"
   ]
  },
  {
   "cell_type": "code",
   "execution_count": 40,
   "metadata": {},
   "outputs": [
    {
     "name": "stdout",
     "output_type": "stream",
     "text": [
      "Help on method find in module bs4.element:\n",
      "\n",
      "find(name=None, attrs={}, recursive=True, text=None, **kwargs) method of bs4.BeautifulSoup instance\n",
      "    Look in the children of this PageElement and find the first\n",
      "    PageElement that matches the given criteria.\n",
      "    \n",
      "    All find_* methods take a common set of arguments. See the online\n",
      "    documentation for detailed explanations.\n",
      "    \n",
      "    :param name: A filter on tag name.\n",
      "    :param attrs: A dictionary of filters on attribute values.\n",
      "    :param recursive: If this is True, find() will perform a\n",
      "        recursive search of this PageElement's children. Otherwise,\n",
      "        only the direct children will be considered.\n",
      "    :param limit: Stop looking after finding this many results.\n",
      "    :kwargs: A dictionary of filters on attribute values.\n",
      "    :return: A PageElement.\n",
      "    :rtype: bs4.element.Tag | bs4.element.NavigableString\n",
      "\n"
     ]
    }
   ],
   "source": [
    "help(soup.find)"
   ]
  },
  {
   "cell_type": "code",
   "execution_count": 42,
   "metadata": {},
   "outputs": [],
   "source": [
    "title = soup.find(attrs={'class':'page-title'})"
   ]
  },
  {
   "cell_type": "code",
   "execution_count": 44,
   "metadata": {},
   "outputs": [
    {
     "name": "stdout",
     "output_type": "stream",
     "text": [
      "Set 2 manere pentru flotari, LiveUp, 18x11x9 cm\n"
     ]
    }
   ],
   "source": [
    "print(title.get_text().strip())"
   ]
  },
  {
   "cell_type": "code",
   "execution_count": null,
   "metadata": {},
   "outputs": [],
   "source": []
  }
 ],
 "metadata": {
  "kernelspec": {
   "display_name": "Python 3",
   "language": "python",
   "name": "python3"
  },
  "language_info": {
   "codemirror_mode": {
    "name": "ipython",
    "version": 3
   },
   "file_extension": ".py",
   "mimetype": "text/x-python",
   "name": "python",
   "nbconvert_exporter": "python",
   "pygments_lexer": "ipython3",
   "version": "3.7.6"
  }
 },
 "nbformat": 4,
 "nbformat_minor": 4
}
